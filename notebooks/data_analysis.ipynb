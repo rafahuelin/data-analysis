{
 "cells": [
  {
   "cell_type": "markdown",
   "id": "e34bd4b9-770f-4240-8a14-b4aeb8c04d75",
   "metadata": {},
   "source": [
    "#### Import data"
   ]
  },
  {
   "cell_type": "code",
   "execution_count": 1,
   "id": "e2606a33-8faf-49f3-b4fe-e80cdc44cd79",
   "metadata": {},
   "outputs": [],
   "source": [
    "import json\n",
    "from collections import Counter\n",
    "import matplotlib.pyplot as plt\n",
    "import numpy as np\n",
    "import pandas as pd\n",
    "\n",
    "# Reading the json as a dict\n",
    "with open('coupons.json') as json_data:\n",
    "    data = json.load(json_data)\n",
    "\n",
    "coupons_df = pd.DataFrame.from_dict(data['coupons'])\n"
   ]
  },
  {
   "cell_type": "markdown",
   "id": "3932ca06-0ca2-4023-aaec-1c5c2476e445",
   "metadata": {},
   "source": [
    "### 1) cuántos cupones hay de cada tipo"
   ]
  },
  {
   "cell_type": "code",
   "execution_count": 2,
   "id": "7f1c07f1-78c9-4f3e-bbd1-b18f6bfd9526",
   "metadata": {},
   "outputs": [
    {
     "data": {
      "text/plain": [
       "percent-off        89\n",
       "free-shipping      43\n",
       "dollar-off         11\n",
       "buy-one-get-one     2\n",
       "free-gift           2\n",
       "Name: promotion_type, dtype: int64"
      ]
     },
     "execution_count": 2,
     "metadata": {},
     "output_type": "execute_result"
    }
   ],
   "source": [
    "coupons_df['promotion_type'].value_counts()"
   ]
  },
  {
   "cell_type": "code",
   "execution_count": 3,
   "id": "36fc48be-cea3-4739-8066-9b685a196a0c",
   "metadata": {},
   "outputs": [
    {
     "data": {
      "text/plain": [
       "<AxesSubplot:>"
      ]
     },
     "execution_count": 3,
     "metadata": {},
     "output_type": "execute_result"
    },
    {
     "data": {
      "image/png": "[encoded data removed]",
      "text/plain": [
       "<Figure size 432x288 with 1 Axes>"
      ]
     },
     "metadata": {
      "needs_background": "light"
     },
     "output_type": "display_data"
    }
   ],
   "source": [
    "coupons_df['promotion_type'].value_counts().plot.bar()"
   ]
  },
  {
   "cell_type": "markdown",
   "id": "f8261b78-4852-4c56-a62c-6a26862bd721",
   "metadata": {},
   "source": [
    "### 2) de los cupones percent-off, cuantos hay con cada descuento, mínimo, máximo,\n",
    "promedio"
   ]
  },
  {
   "cell_type": "code",
   "execution_count": 4,
   "id": "498ccb24-50b5-4fc2-b340-3ba608884457",
   "metadata": {},
   "outputs": [
    {
     "name": "stdout",
     "output_type": "stream",
     "text": [
      "Coupons with promotion \"percent-off\": 89\n"
     ]
    }
   ],
   "source": [
    "is_percent_off = coupons_df['promotion_type'] == 'percent-off'\n",
    "\n",
    "percent_off_df = coupons_df[is_percent_off]\n",
    "print(f'Coupons with promotion \"percent-off\": {len(percent_off_df)}')"
   ]
  },
  {
   "cell_type": "code",
   "execution_count": 5,
   "id": "4667c7a5-6f71-43e1-9d74-e1563cfe2993",
   "metadata": {},
   "outputs": [
    {
     "name": "stdout",
     "output_type": "stream",
     "text": [
      "Percent off distribution:\n",
      "40.0    18\n",
      "50.0    16\n",
      "25.0    14\n",
      "20.0    13\n",
      "70.0     5\n",
      "30.0     5\n",
      "80.0     3\n",
      "60.0     3\n",
      "10.0     3\n",
      "75.0     3\n",
      "15.0     2\n",
      "65.0     2\n",
      "8.0      1\n",
      "33.0     1\n",
      "Name: value, dtype: int64\n"
     ]
    }
   ],
   "source": [
    "print('Percent off distribution:')\n",
    "print(percent_off_df['value'].value_counts())"
   ]
  },
  {
   "cell_type": "code",
   "execution_count": 6,
   "id": "8be39831-b8a4-44ca-8b8f-5c6ae416134a",
   "metadata": {},
   "outputs": [
    {
     "data": {
      "text/plain": [
       "<AxesSubplot:>"
      ]
     },
     "execution_count": 6,
     "metadata": {},
     "output_type": "execute_result"
    },
    {
     "data": {
      "image/png": "[encoded data removed]",
      "text/plain": [
       "<Figure size 432x288 with 1 Axes>"
      ]
     },
     "metadata": {
      "needs_background": "light"
     },
     "output_type": "display_data"
    }
   ],
   "source": [
    "percent_off_df['value'].value_counts().sort_index().plot.bar()"
   ]
  },
  {
   "cell_type": "code",
   "execution_count": 7,
   "id": "35066bee-ca90-44b0-a73a-443902677524",
   "metadata": {},
   "outputs": [
    {
     "name": "stdout",
     "output_type": "stream",
     "text": [
      "Minimum percent off: 8.00%\n"
     ]
    }
   ],
   "source": [
    "min_percentage = percent_off_df['value'].min()\n",
    "print(f'Minimum percent off: {min_percentage:.2f}%')"
   ]
  },
  {
   "cell_type": "code",
   "execution_count": 8,
   "id": "e5721044-b8a7-492f-b13a-cef296e15358",
   "metadata": {},
   "outputs": [
    {
     "name": "stdout",
     "output_type": "stream",
     "text": [
      "Maximum percent off: 80.00%\n"
     ]
    }
   ],
   "source": [
    "max_percentage = percent_off_df['value'].max()\n",
    "print(f'Maximum percent off: {max_percentage:.2f}%')"
   ]
  },
  {
   "cell_type": "code",
   "execution_count": 9,
   "id": "2b49cad7-a2cb-4cf0-8792-e6cf54b6484f",
   "metadata": {},
   "outputs": [
    {
     "name": "stdout",
     "output_type": "stream",
     "text": [
      "Average percent off: 39.39%\n"
     ]
    }
   ],
   "source": [
    "avg_percentage = percent_off_df['value'].mean()\n",
    "print(f'Average percent off: {avg_percentage:.2f}%')"
   ]
  },
  {
   "cell_type": "markdown",
   "id": "510a3b08-a73a-4d94-9dff-b4838579c3d4",
   "metadata": {},
   "source": [
    "### 3) de los cupones dollar-off, cuantos hay con cada descuento, mínimo, máximo,promedio"
   ]
  },
  {
   "cell_type": "code",
   "execution_count": 10,
   "id": "1d4dcf4a-52c0-4949-b21a-877e31587db2",
   "metadata": {},
   "outputs": [
    {
     "name": "stdout",
     "output_type": "stream",
     "text": [
      "Coupons with promotion \"dollar-off\": 11\n"
     ]
    }
   ],
   "source": [
    "is_dollar_off = coupons_df['promotion_type'] == 'dollar-off'\n",
    "\n",
    "dollar_off_df = coupons_df[is_dollar_off]\n",
    "print(f'Coupons with promotion \"dollar-off\": {len(dollar_off_df)}')"
   ]
  },
  {
   "cell_type": "code",
   "execution_count": 11,
   "id": "769e5846-35f5-4a30-b54a-9abdccf13b21",
   "metadata": {},
   "outputs": [
    {
     "name": "stdout",
     "output_type": "stream",
     "text": [
      "dollar-off distribution:\n",
      "10.0     6\n",
      "150.0    2\n",
      "20.0     1\n",
      "75.0     1\n",
      "50.0     1\n",
      "Name: value, dtype: int64\n"
     ]
    }
   ],
   "source": [
    "print('dollar-off distribution:')\n",
    "print(dollar_off_df['value'].value_counts())"
   ]
  },
  {
   "cell_type": "code",
   "execution_count": 12,
   "id": "4e111718-f36e-4c93-a5ed-7b15882b07a9",
   "metadata": {},
   "outputs": [
    {
     "data": {
      "text/plain": [
       "<AxesSubplot:>"
      ]
     },
     "execution_count": 12,
     "metadata": {},
     "output_type": "execute_result"
    },
    {
     "data": {
      "image/png": "[encoded data removed]",
      "text/plain": [
       "<Figure size 432x288 with 1 Axes>"
      ]
     },
     "metadata": {
      "needs_background": "light"
     },
     "output_type": "display_data"
    }
   ],
   "source": [
    "dollar_off_df['value'].value_counts().sort_index().plot.bar()"
   ]
  },
  {
   "cell_type": "code",
   "execution_count": 13,
   "id": "3a081eb9-43a0-421b-b3af-77e58d3dafa7",
   "metadata": {},
   "outputs": [
    {
     "name": "stdout",
     "output_type": "stream",
     "text": [
      "Minimum dollar-off: 10.00$\n"
     ]
    }
   ],
   "source": [
    "min_dollar_off = dollar_off_df['value'].min()\n",
    "print(f'Minimum dollar-off: {min_dollar_off:.2f}$')"
   ]
  },
  {
   "cell_type": "code",
   "execution_count": 14,
   "id": "5b5cb2f2-6106-4a14-b2c1-df475b6ad58b",
   "metadata": {},
   "outputs": [
    {
     "name": "stdout",
     "output_type": "stream",
     "text": [
      "Maximum dollar-off: 150.00$\n"
     ]
    }
   ],
   "source": [
    "max_dollar_off = dollar_off_df['value'].max()\n",
    "print(f'Maximum dollar-off: {max_dollar_off:.2f}$')"
   ]
  },
  {
   "cell_type": "code",
   "execution_count": 15,
   "id": "4421c586-e864-46ad-9260-22de8fc3938b",
   "metadata": {},
   "outputs": [
    {
     "name": "stdout",
     "output_type": "stream",
     "text": [
      "Average dollar-off: 45.91$\n"
     ]
    }
   ],
   "source": [
    "avg_dollar_off = dollar_off_df['value'].mean()\n",
    "print(f'Average dollar-off: {avg_dollar_off:.2f}$')"
   ]
  },
  {
   "cell_type": "markdown",
   "id": "0e14aca2-c237-4e54-ab83-e5f3c3ba535a",
   "metadata": {},
   "source": [
    "### 4) las mismas estadísticas pero agrupado por retailer"
   ]
  },
  {
   "cell_type": "code",
   "execution_count": 16,
   "id": "c108e436-ae98-4042-b6d3-8d6937f1544b",
   "metadata": {},
   "outputs": [
    {
     "data": {
      "text/plain": [
       "macys        100\n",
       "nordstrom     82\n",
       "nike           9\n",
       "Name: webshop_id, dtype: int64"
      ]
     },
     "execution_count": 16,
     "metadata": {},
     "output_type": "execute_result"
    }
   ],
   "source": [
    "coupons_df['webshop_id'].value_counts()"
   ]
  },
  {
   "cell_type": "code",
   "execution_count": 17,
   "id": "b4bf47ac-62d7-47c5-ba5b-5d4ecbc38018",
   "metadata": {},
   "outputs": [
    {
     "data": {
      "text/plain": [
       "<AxesSubplot:>"
      ]
     },
     "execution_count": 17,
     "metadata": {},
     "output_type": "execute_result"
    },
    {
     "data": {
      "image/png": "[encoded data removed]",
      "text/plain": [
       "<Figure size 432x288 with 1 Axes>"
      ]
     },
     "metadata": {
      "needs_background": "light"
     },
     "output_type": "display_data"
    }
   ],
   "source": [
    "coupons_df['webshop_id'].value_counts().plot.bar()"
   ]
  },
  {
   "cell_type": "code",
   "execution_count": 18,
   "id": "57a6b82f-a3f2-476e-9596-245a70adeccb",
   "metadata": {},
   "outputs": [
    {
     "name": "stdout",
     "output_type": "stream",
     "text": [
      "dollar-off distribution grouped by retailer:\n"
     ]
    },
    {
     "data": {
      "text/plain": [
       "webshop_id  value\n",
       "macys       10.0     6\n",
       "            20.0     1\n",
       "            50.0     1\n",
       "nike        150.0    1\n",
       "nordstrom   75.0     1\n",
       "            150.0    1\n",
       "Name: value, dtype: int64"
      ]
     },
     "execution_count": 18,
     "metadata": {},
     "output_type": "execute_result"
    }
   ],
   "source": [
    "print('dollar-off distribution grouped by retailer:')\n",
    "dollar_off_df.groupby(['webshop_id', 'value'])['value'].count()"
   ]
  },
  {
   "cell_type": "code",
   "execution_count": 19,
   "id": "bcc41a8d-9177-4866-af31-442ef2cef9f9",
   "metadata": {},
   "outputs": [
    {
     "data": {
      "text/plain": [
       "<AxesSubplot:xlabel='webshop_id'>"
      ]
     },
     "execution_count": 19,
     "metadata": {},
     "output_type": "execute_result"
    },
    {
     "data": {
      "image/png": "[encoded data removed]",
      "text/plain": [
       "<Figure size 432x288 with 1 Axes>"
      ]
     },
     "metadata": {
      "needs_background": "light"
     },
     "output_type": "display_data"
    }
   ],
   "source": [
    "dollar_off_df.groupby(['webshop_id', 'value'])['value'].count().unstack().plot.bar()"
   ]
  },
  {
   "cell_type": "code",
   "execution_count": 20,
   "id": "96c626f8-bd27-4f5e-8a59-893e5098c8cd",
   "metadata": {},
   "outputs": [
    {
     "name": "stdout",
     "output_type": "stream",
     "text": [
      "Minimum dollar-off grouped by retailer:\n"
     ]
    },
    {
     "data": {
      "text/plain": [
       "webshop_id\n",
       "macys         10.0\n",
       "nike         150.0\n",
       "nordstrom     75.0\n",
       "Name: value, dtype: float64"
      ]
     },
     "execution_count": 20,
     "metadata": {},
     "output_type": "execute_result"
    }
   ],
   "source": [
    "print('Minimum dollar-off grouped by retailer:')\n",
    "dollar_off_df.groupby(['webshop_id'])['value'].min()"
   ]
  },
  {
   "cell_type": "code",
   "execution_count": 21,
   "id": "5a08c75f-71f1-40b1-ba9b-456db19f8447",
   "metadata": {},
   "outputs": [
    {
     "name": "stdout",
     "output_type": "stream",
     "text": [
      "Maximum dollar-off grouped by retailer:\n"
     ]
    },
    {
     "data": {
      "text/plain": [
       "webshop_id\n",
       "macys         50.0\n",
       "nike         150.0\n",
       "nordstrom    150.0\n",
       "Name: value, dtype: float64"
      ]
     },
     "execution_count": 21,
     "metadata": {},
     "output_type": "execute_result"
    }
   ],
   "source": [
    "print('Maximum dollar-off grouped by retailer:')\n",
    "dollar_off_df.groupby(['webshop_id'])['value'].max()"
   ]
  },
  {
   "cell_type": "code",
   "execution_count": 22,
   "id": "b0689335-0039-4ab7-9649-8cb1a13228c9",
   "metadata": {},
   "outputs": [
    {
     "name": "stdout",
     "output_type": "stream",
     "text": [
      "Average dollar-off grouped by retailer:\n"
     ]
    },
    {
     "data": {
      "text/plain": [
       "webshop_id\n",
       "macys         16.25\n",
       "nike         150.00\n",
       "nordstrom    112.50\n",
       "Name: value, dtype: float64"
      ]
     },
     "execution_count": 22,
     "metadata": {},
     "output_type": "execute_result"
    }
   ],
   "source": [
    "print('Average dollar-off grouped by retailer:')\n",
    "dollar_off_df.groupby(['webshop_id'])['value'].mean()"
   ]
  },
  {
   "cell_type": "markdown",
   "id": "3e140497-678b-4eaa-ab50-64ac9ef3cb41",
   "metadata": {},
   "source": [
    "### 5) extraer las palabras clave relevantes de ‘title’ y ‘description’"
   ]
  },
  {
   "cell_type": "code",
   "execution_count": 46,
   "id": "eac39e7d-3408-4326-8547-b6165fa3b5e5",
   "metadata": {},
   "outputs": [
    {
     "name": "stdout",
     "output_type": "stream",
     "text": [
      "Most common words in title\n"
     ]
    },
    {
     "data": {
      "text/plain": [
       "[('Off', 129),\n",
       " ('Free', 116),\n",
       " ('Shipping', 59),\n",
       " ('Purchase', 50),\n",
       " ('With', 49),\n",
       " ('Up', 46),\n",
       " ('Select', 43),\n",
       " ('to', 35),\n",
       " ('Returns', 27),\n",
       " ('New', 25),\n",
       " ('Your', 22),\n",
       " ('Sale', 22),\n",
       " ('on', 22),\n",
       " ('of', 20),\n",
       " ('And', 20),\n",
       " ('Gift', 19),\n",
       " ('Samples', 17),\n",
       " ('Extra', 17),\n",
       " ('for', 16),\n",
       " ('Deluxe', 15)]"
      ]
     },
     "execution_count": 46,
     "metadata": {},
     "output_type": "execute_result"
    }
   ],
   "source": [
    "title_strs = \" \".join(coupons_df[\"title\"]).split()\n",
    "title_words = list(filter(lambda word: word.isalpha(), title_strs))\n",
    "print('Most common words in title')\n",
    "Counter(title_words).most_common(20)"
   ]
  },
  {
   "cell_type": "code",
   "execution_count": 47,
   "id": "f955ce34-baf5-4608-8cc3-2e7600e5b7fc",
   "metadata": {},
   "outputs": [
    {
     "name": "stdout",
     "output_type": "stream",
     "text": [
      "Most common words in description\n"
     ]
    },
    {
     "data": {
      "text/plain": [
       "[('Comment', 756),\n",
       " ('Post', 378),\n",
       " ('Details', 311),\n",
       " ('Get', 296),\n",
       " ('to', 261),\n",
       " ('with', 246),\n",
       " ('Free', 244),\n",
       " ('a', 218),\n",
       " ('Save', 203),\n",
       " ('other', 193),\n",
       " ('Include', 189),\n",
       " ('nearby', 189),\n",
       " ('city', 189),\n",
       " ('my', 189),\n",
       " ('comment', 189),\n",
       " ('help', 189),\n",
       " ('Posted', 189),\n",
       " ('Another', 189),\n",
       " ('Add', 187),\n",
       " ('Off', 180)]"
      ]
     },
     "execution_count": 47,
     "metadata": {},
     "output_type": "execute_result"
    }
   ],
   "source": [
    "description_strs = \" \".join(coupons_df['description']).split()\n",
    "description_words = list(filter(lambda word: word.isalpha(), description_strs))\n",
    "print('Most common words in description')\n",
    "Counter(description_words).most_common(20)"
   ]
  }
 ],
 "metadata": {
  "kernelspec": {
   "display_name": "Python 3 (ipykernel)",
   "language": "python",
   "name": "python3"
  },
  "language_info": {
   "codemirror_mode": {
    "name": "ipython",
    "version": 3
   },
   "file_extension": ".py",
   "mimetype": "text/x-python",
   "name": "python",
   "nbconvert_exporter": "python",
   "pygments_lexer": "ipython3",
   "version": "3.10.1"
  }
 },
 "nbformat": 4,
 "nbformat_minor": 5
}
